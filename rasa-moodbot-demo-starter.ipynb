{
 "cells": [
  {
   "cell_type": "markdown",
   "metadata": {
    "colab_type": "text",
    "id": "kO9wt2g3okLS"
   },
   "source": [
    "# Conversational AI with Rasa\n",
    "![alt text](https://encrypted-tbn0.gstatic.com/images?q=tbn:ANd9GcTaX3LNhGcAe1HnPZSuWS0oH6af0LJHXcH7If1sQgLCFAT1chNGFg)\n",
    "\n",
    "This notebook is going to be the basis for my workshop at the PyData 2018 Amsterdam workshop. If you have any questions, please let me know!\n",
    "\n",
    "You'll build a relatively simple bot, that just asks you about your mood and tries to cheer you up if you're feeling a bit down. \n",
    "\n",
    "The tutorial consists of three parts:\n",
    "\n",
    "\n",
    "*   Part 0: Installation and preparations\n",
    "*   Part 1: You'll start with a basic bot that can only understand natural language but no dialogues.\n",
    "*   Part 2: You'll add the abilitiy to understand multiturn dialogues.\n",
    "*   Part 3: I'll give you further resources so you can extend this simple demo.\n"
   ]
  },
  {
   "cell_type": "markdown",
   "metadata": {},
   "source": [
    "## Part 0: Installation\n",
    "\n",
    "### Let's start with jupyter configuration"
   ]
  },
  {
   "cell_type": "code",
   "execution_count": 2,
   "metadata": {},
   "outputs": [],
   "source": [
    "%matplotlib inline\n",
    "\n",
    "import logging, io, json, warnings\n",
    "logging.basicConfig(level=\"INFO\")\n",
    "warnings.filterwarnings('ignore')\n",
    "\n",
    "def pprint(o):\n",
    "    # small helper to make dict dumps a bit prettier\n",
    "    print(json.dumps(o, indent=2))"
   ]
  },
  {
   "cell_type": "markdown",
   "metadata": {
    "colab_type": "text",
    "id": "y4miuS-TqYcn"
   },
   "source": [
    "### Installation of Rasa\n",
    "First you'll have to install Rasa Core and NLU in this notebook if you already have them installed in your env, you can just skip this. But make sure you also have the spacy model installed!"
   ]
  },
  {
   "cell_type": "code",
   "execution_count": 2,
   "metadata": {
    "colab": {
     "autoexec": {
      "startup": false,
      "wait_interval": 0
     },
     "base_uri": "https://localhost:8080/",
     "height": 3607
    },
    "colab_type": "code",
    "executionInfo": {
     "elapsed": 58315,
     "status": "ok",
     "timestamp": 1521575035242,
     "user": {
      "displayName": "Ricardo Wölker",
      "photoUrl": "https://lh3.googleusercontent.com/a/default-user=s128",
      "userId": "115384113157413623365"
     },
     "user_tz": 0
    },
    "id": "X_2-sKgo_qyl",
    "outputId": "b947c702-75fa-406d-d21d-a691dcb5236d",
    "scrolled": true
   },
   "outputs": [
    {
     "name": "stdout",
     "output_type": "stream",
     "text": [
      "Requirement already up-to-date: rasa_core in /Users/hellohbot/.pyenv/versions/3.6.8/envs/demo/lib/python3.6/site-packages (0.12.4)\n",
      "Requirement already up-to-date: rasa_nlu[spacy] in /Users/hellohbot/.pyenv/versions/3.6.8/envs/demo/lib/python3.6/site-packages (0.13.8)\n",
      "Requirement already satisfied, skipping upgrade: twilio~=6.0 in /Users/hellohbot/.pyenv/versions/3.6.8/envs/demo/lib/python3.6/site-packages (from rasa_core) (6.23.1)\n",
      "Requirement already satisfied, skipping upgrade: colorhash~=1.0 in /Users/hellohbot/.pyenv/versions/3.6.8/envs/demo/lib/python3.6/site-packages (from rasa_core) (1.0.2)\n",
      "Collecting prompt-toolkit==1.0.14 (from rasa_core)\n",
      "  Using cached https://files.pythonhosted.org/packages/ee/3d/b25d35a9f0d381dd1c02d8e04b37c353caaaff4bc32150328eeebe4931f5/prompt_toolkit-1.0.14-py3-none-any.whl\n",
      "Requirement already satisfied, skipping upgrade: tqdm~=4.0 in /Users/hellohbot/.pyenv/versions/3.6.8/envs/demo/lib/python3.6/site-packages (from rasa_core) (4.29.1)\n",
      "Requirement already satisfied, skipping upgrade: pika~=0.11.2 in /Users/hellohbot/.pyenv/versions/3.6.8/envs/demo/lib/python3.6/site-packages (from rasa_core) (0.11.2)\n",
      "Requirement already satisfied, skipping upgrade: rasa-core-sdk~=0.12.1 in /Users/hellohbot/.pyenv/versions/3.6.8/envs/demo/lib/python3.6/site-packages (from rasa_core) (0.12.1)\n",
      "Requirement already satisfied, skipping upgrade: typing~=3.0 in /Users/hellohbot/.pyenv/versions/3.6.8/envs/demo/lib/python3.6/site-packages (from rasa_core) (3.6.6)\n",
      "Requirement already satisfied, skipping upgrade: tensorflow==1.10.0 in /Users/hellohbot/.pyenv/versions/3.6.8/envs/demo/lib/python3.6/site-packages (from rasa_core) (1.10.0)\n",
      "Requirement already satisfied, skipping upgrade: coloredlogs~=10.0 in /Users/hellohbot/.pyenv/versions/3.6.8/envs/demo/lib/python3.6/site-packages (from rasa_core) (10.0)\n",
      "Requirement already satisfied, skipping upgrade: pykwalify<=1.6.0 in /Users/hellohbot/.pyenv/versions/3.6.8/envs/demo/lib/python3.6/site-packages (from rasa_core) (1.6.0)\n",
      "Requirement already satisfied, skipping upgrade: python-telegram-bot~=10.0 in /Users/hellohbot/.pyenv/versions/3.6.8/envs/demo/lib/python3.6/site-packages (from rasa_core) (10.1.0)\n",
      "Requirement already satisfied, skipping upgrade: colorclass~=2.2 in /Users/hellohbot/.pyenv/versions/3.6.8/envs/demo/lib/python3.6/site-packages (from rasa_core) (2.2.0)\n",
      "Requirement already satisfied, skipping upgrade: jsonschema~=2.6 in /Users/hellohbot/.pyenv/versions/3.6.8/envs/demo/lib/python3.6/site-packages (from rasa_core) (2.6.0)\n",
      "Requirement already satisfied, skipping upgrade: terminaltables~=3.1 in /Users/hellohbot/.pyenv/versions/3.6.8/envs/demo/lib/python3.6/site-packages (from rasa_core) (3.1.0)\n",
      "Requirement already satisfied, skipping upgrade: pyyaml~=3.12 in /Users/hellohbot/.pyenv/versions/3.6.8/envs/demo/lib/python3.6/site-packages (from rasa_core) (3.13)\n",
      "Requirement already satisfied, skipping upgrade: ruamel.yaml~=0.15.0 in /Users/hellohbot/.pyenv/versions/3.6.8/envs/demo/lib/python3.6/site-packages (from rasa_core) (0.15.86)\n",
      "Requirement already satisfied, skipping upgrade: mattermostwrapper~=2.0 in /Users/hellohbot/.pyenv/versions/3.6.8/envs/demo/lib/python3.6/site-packages (from rasa_core) (2.1)\n",
      "Requirement already satisfied, skipping upgrade: scikit-learn~=0.19.0 in /Users/hellohbot/.pyenv/versions/3.6.8/envs/demo/lib/python3.6/site-packages (from rasa_core) (0.19.2)\n",
      "Requirement already satisfied, skipping upgrade: python-dateutil~=2.7 in /Users/hellohbot/.pyenv/versions/3.6.8/envs/demo/lib/python3.6/site-packages (from rasa_core) (2.7.5)\n",
      "Requirement already satisfied, skipping upgrade: rocketchat-API~=0.6.0 in /Users/hellohbot/.pyenv/versions/3.6.8/envs/demo/lib/python3.6/site-packages (from rasa_core) (0.6.25)\n",
      "Requirement already satisfied, skipping upgrade: flask-jwt-simple~=0.0.3 in /Users/hellohbot/.pyenv/versions/3.6.8/envs/demo/lib/python3.6/site-packages (from rasa_core) (0.0.3)\n",
      "Requirement already satisfied, skipping upgrade: numpy~=1.14 in /Users/hellohbot/.pyenv/versions/3.6.8/envs/demo/lib/python3.6/site-packages (from rasa_core) (1.16.0)\n",
      "Requirement already satisfied, skipping upgrade: packaging~=17.0 in /Users/hellohbot/.pyenv/versions/3.6.8/envs/demo/lib/python3.6/site-packages (from rasa_core) (17.1)\n",
      "Requirement already satisfied, skipping upgrade: pydot~=1.2 in /Users/hellohbot/.pyenv/versions/3.6.8/envs/demo/lib/python3.6/site-packages (from rasa_core) (1.4.1)\n",
      "Requirement already satisfied, skipping upgrade: PyInquirer~=1.0 in /Users/hellohbot/.pyenv/versions/3.6.8/envs/demo/lib/python3.6/site-packages (from rasa_core) (1.0.3)\n",
      "Requirement already satisfied, skipping upgrade: pymongo~=3.5 in /Users/hellohbot/.pyenv/versions/3.6.8/envs/demo/lib/python3.6/site-packages (from rasa_core) (3.7.2)\n",
      "Requirement already satisfied, skipping upgrade: ConfigArgParse~=0.13.0 in /Users/hellohbot/.pyenv/versions/3.6.8/envs/demo/lib/python3.6/site-packages (from rasa_core) (0.13.0)\n",
      "Requirement already satisfied, skipping upgrade: flask-cors~=3.0 in /Users/hellohbot/.pyenv/versions/3.6.8/envs/demo/lib/python3.6/site-packages (from rasa_core) (3.0.7)\n",
      "Requirement already satisfied, skipping upgrade: gevent~=1.2 in /Users/hellohbot/.pyenv/versions/3.6.8/envs/demo/lib/python3.6/site-packages (from rasa_core) (1.4.0)\n",
      "Requirement already satisfied, skipping upgrade: slackclient~=1.0 in /Users/hellohbot/.pyenv/versions/3.6.8/envs/demo/lib/python3.6/site-packages (from rasa_core) (1.3.0)\n",
      "Requirement already satisfied, skipping upgrade: networkx~=2.0 in /Users/hellohbot/.pyenv/versions/3.6.8/envs/demo/lib/python3.6/site-packages (from rasa_core) (2.2)\n",
      "Requirement already satisfied, skipping upgrade: flask~=1.0 in /Users/hellohbot/.pyenv/versions/3.6.8/envs/demo/lib/python3.6/site-packages (from rasa_core) (1.0.2)\n",
      "Requirement already satisfied, skipping upgrade: redis~=2.0 in /Users/hellohbot/.pyenv/versions/3.6.8/envs/demo/lib/python3.6/site-packages (from rasa_core) (2.10.6)\n",
      "Requirement already satisfied, skipping upgrade: python-engineio~=3.0 in /Users/hellohbot/.pyenv/versions/3.6.8/envs/demo/lib/python3.6/site-packages (from rasa_core) (3.2.3)\n",
      "Requirement already satisfied, skipping upgrade: scipy~=1.1 in /Users/hellohbot/.pyenv/versions/3.6.8/envs/demo/lib/python3.6/site-packages (from rasa_core) (1.2.0)\n",
      "Requirement already satisfied, skipping upgrade: future~=0.16 in /Users/hellohbot/.pyenv/versions/3.6.8/envs/demo/lib/python3.6/site-packages (from rasa_core) (0.17.1)\n",
      "Requirement already satisfied, skipping upgrade: jsonpickle~=0.9.0 in /Users/hellohbot/.pyenv/versions/3.6.8/envs/demo/lib/python3.6/site-packages (from rasa_core) (0.9.6)\n",
      "Requirement already satisfied, skipping upgrade: pytz~=2018.4 in /Users/hellohbot/.pyenv/versions/3.6.8/envs/demo/lib/python3.6/site-packages (from rasa_core) (2018.9)\n",
      "Requirement already satisfied, skipping upgrade: fbmessenger~=5.0 in /Users/hellohbot/.pyenv/versions/3.6.8/envs/demo/lib/python3.6/site-packages (from rasa_core) (5.4.0)\n",
      "Requirement already satisfied, skipping upgrade: apscheduler~=3.0 in /Users/hellohbot/.pyenv/versions/3.6.8/envs/demo/lib/python3.6/site-packages (from rasa_core) (3.5.3)\n",
      "Requirement already satisfied, skipping upgrade: webexteamssdk~=1.0 in /Users/hellohbot/.pyenv/versions/3.6.8/envs/demo/lib/python3.6/site-packages (from rasa_core) (1.1.1)\n",
      "Requirement already satisfied, skipping upgrade: h5py~=2.0 in /Users/hellohbot/.pyenv/versions/3.6.8/envs/demo/lib/python3.6/site-packages (from rasa_core) (2.9.0)\n",
      "Requirement already satisfied, skipping upgrade: fakeredis~=0.10.0 in /Users/hellohbot/.pyenv/versions/3.6.8/envs/demo/lib/python3.6/site-packages (from rasa_core) (0.10.3)\n",
      "Requirement already satisfied, skipping upgrade: python-socketio~=2.0 in /Users/hellohbot/.pyenv/versions/3.6.8/envs/demo/lib/python3.6/site-packages (from rasa_core) (2.1.2)\n",
      "Requirement already satisfied, skipping upgrade: six~=1.0 in /Users/hellohbot/.pyenv/versions/3.6.8/envs/demo/lib/python3.6/site-packages (from rasa_core) (1.12.0)\n",
      "Requirement already satisfied, skipping upgrade: requests~=2.20 in /Users/hellohbot/.pyenv/versions/3.6.8/envs/demo/lib/python3.6/site-packages (from rasa_core) (2.21.0)\n",
      "Requirement already satisfied, skipping upgrade: cloudpickle in /Users/hellohbot/.pyenv/versions/3.6.8/envs/demo/lib/python3.6/site-packages (from rasa_nlu[spacy]) (0.6.1)\n",
      "Requirement already satisfied, skipping upgrade: matplotlib~=2.0 in /Users/hellohbot/.pyenv/versions/3.6.8/envs/demo/lib/python3.6/site-packages (from rasa_nlu[spacy]) (2.2.3)\n",
      "Requirement already satisfied, skipping upgrade: simplejson in /Users/hellohbot/.pyenv/versions/3.6.8/envs/demo/lib/python3.6/site-packages (from rasa_nlu[spacy]) (3.16.0)\n",
      "Requirement already satisfied, skipping upgrade: pathlib in /Users/hellohbot/.pyenv/versions/3.6.8/envs/demo/lib/python3.6/site-packages (from rasa_nlu[spacy]) (1.0.1)\n",
      "Requirement already satisfied, skipping upgrade: klein in /Users/hellohbot/.pyenv/versions/3.6.8/envs/demo/lib/python3.6/site-packages (from rasa_nlu[spacy]) (17.10.0)\n",
      "Requirement already satisfied, skipping upgrade: boto3 in /Users/hellohbot/.pyenv/versions/3.6.8/envs/demo/lib/python3.6/site-packages (from rasa_nlu[spacy]) (1.9.83)\n",
      "Requirement already satisfied, skipping upgrade: spacy<=2.0.12,>2.0; extra == \"spacy\" in /Users/hellohbot/.pyenv/versions/3.6.8/envs/demo/lib/python3.6/site-packages (from rasa_nlu[spacy]) (2.0.12)\n",
      "Requirement already satisfied, skipping upgrade: sklearn-crfsuite; extra == \"spacy\" in /Users/hellohbot/.pyenv/versions/3.6.8/envs/demo/lib/python3.6/site-packages (from rasa_nlu[spacy]) (0.3.6)\n",
      "Requirement already satisfied, skipping upgrade: pysocks; python_version >= \"3.0\" in /Users/hellohbot/.pyenv/versions/3.6.8/envs/demo/lib/python3.6/site-packages (from twilio~=6.0->rasa_core) (1.6.8)\n",
      "Requirement already satisfied, skipping upgrade: PyJWT>=1.4.2 in /Users/hellohbot/.pyenv/versions/3.6.8/envs/demo/lib/python3.6/site-packages (from twilio~=6.0->rasa_core) (1.7.1)\n"
     ]
    },
    {
     "name": "stdout",
     "output_type": "stream",
     "text": [
      "Requirement already satisfied, skipping upgrade: wcwidth in /Users/hellohbot/.pyenv/versions/3.6.8/envs/demo/lib/python3.6/site-packages (from prompt-toolkit==1.0.14->rasa_core) (0.1.7)\n",
      "Requirement already satisfied, skipping upgrade: grpcio>=1.8.6 in /Users/hellohbot/.pyenv/versions/3.6.8/envs/demo/lib/python3.6/site-packages (from tensorflow==1.10.0->rasa_core) (1.18.0)\n",
      "Requirement already satisfied, skipping upgrade: setuptools<=39.1.0 in /Users/hellohbot/.pyenv/versions/3.6.8/envs/demo/lib/python3.6/site-packages (from tensorflow==1.10.0->rasa_core) (39.1.0)\n",
      "Requirement already satisfied, skipping upgrade: wheel>=0.26 in /Users/hellohbot/.pyenv/versions/3.6.8/envs/demo/lib/python3.6/site-packages (from tensorflow==1.10.0->rasa_core) (0.32.3)\n",
      "Requirement already satisfied, skipping upgrade: tensorboard<1.11.0,>=1.10.0 in /Users/hellohbot/.pyenv/versions/3.6.8/envs/demo/lib/python3.6/site-packages (from tensorflow==1.10.0->rasa_core) (1.10.0)\n",
      "Requirement already satisfied, skipping upgrade: absl-py>=0.1.6 in /Users/hellohbot/.pyenv/versions/3.6.8/envs/demo/lib/python3.6/site-packages (from tensorflow==1.10.0->rasa_core) (0.7.0)\n",
      "Requirement already satisfied, skipping upgrade: protobuf>=3.6.0 in /Users/hellohbot/.pyenv/versions/3.6.8/envs/demo/lib/python3.6/site-packages (from tensorflow==1.10.0->rasa_core) (3.6.1)\n",
      "Requirement already satisfied, skipping upgrade: termcolor>=1.1.0 in /Users/hellohbot/.pyenv/versions/3.6.8/envs/demo/lib/python3.6/site-packages (from tensorflow==1.10.0->rasa_core) (1.1.0)\n",
      "Requirement already satisfied, skipping upgrade: astor>=0.6.0 in /Users/hellohbot/.pyenv/versions/3.6.8/envs/demo/lib/python3.6/site-packages (from tensorflow==1.10.0->rasa_core) (0.7.1)\n",
      "Requirement already satisfied, skipping upgrade: gast>=0.2.0 in /Users/hellohbot/.pyenv/versions/3.6.8/envs/demo/lib/python3.6/site-packages (from tensorflow==1.10.0->rasa_core) (0.2.2)\n",
      "Requirement already satisfied, skipping upgrade: humanfriendly>=4.7 in /Users/hellohbot/.pyenv/versions/3.6.8/envs/demo/lib/python3.6/site-packages (from coloredlogs~=10.0->rasa_core) (4.17)\n",
      "Requirement already satisfied, skipping upgrade: docopt>=0.6.2 in /Users/hellohbot/.pyenv/versions/3.6.8/envs/demo/lib/python3.6/site-packages (from pykwalify<=1.6.0->rasa_core) (0.6.2)\n",
      "Requirement already satisfied, skipping upgrade: certifi in /Users/hellohbot/.pyenv/versions/3.6.8/envs/demo/lib/python3.6/site-packages (from python-telegram-bot~=10.0->rasa_core) (2018.11.29)\n",
      "Requirement already satisfied, skipping upgrade: pyparsing>=2.0.2 in /Users/hellohbot/.pyenv/versions/3.6.8/envs/demo/lib/python3.6/site-packages (from packaging~=17.0->rasa_core) (2.3.1)\n",
      "Requirement already satisfied, skipping upgrade: Pygments>=2.2.0 in /Users/hellohbot/.pyenv/versions/3.6.8/envs/demo/lib/python3.6/site-packages (from PyInquirer~=1.0->rasa_core) (2.3.1)\n",
      "Requirement already satisfied, skipping upgrade: regex>=2016.11.21 in /Users/hellohbot/.pyenv/versions/3.6.8/envs/demo/lib/python3.6/site-packages (from PyInquirer~=1.0->rasa_core) (2018.1.10)\n",
      "Requirement already satisfied, skipping upgrade: greenlet>=0.4.14; platform_python_implementation == \"CPython\" in /Users/hellohbot/.pyenv/versions/3.6.8/envs/demo/lib/python3.6/site-packages (from gevent~=1.2->rasa_core) (0.4.15)\n",
      "Requirement already satisfied, skipping upgrade: websocket-client<1.0a0,>=0.35 in /Users/hellohbot/.pyenv/versions/3.6.8/envs/demo/lib/python3.6/site-packages (from slackclient~=1.0->rasa_core) (0.54.0)\n",
      "Requirement already satisfied, skipping upgrade: decorator>=4.3.0 in /Users/hellohbot/.pyenv/versions/3.6.8/envs/demo/lib/python3.6/site-packages (from networkx~=2.0->rasa_core) (4.3.0)\n",
      "Requirement already satisfied, skipping upgrade: click>=5.1 in /Users/hellohbot/.pyenv/versions/3.6.8/envs/demo/lib/python3.6/site-packages (from flask~=1.0->rasa_core) (7.0)\n",
      "Requirement already satisfied, skipping upgrade: Jinja2>=2.10 in /Users/hellohbot/.pyenv/versions/3.6.8/envs/demo/lib/python3.6/site-packages (from flask~=1.0->rasa_core) (2.10)\n",
      "Requirement already satisfied, skipping upgrade: itsdangerous>=0.24 in /Users/hellohbot/.pyenv/versions/3.6.8/envs/demo/lib/python3.6/site-packages (from flask~=1.0->rasa_core) (1.1.0)\n",
      "Requirement already satisfied, skipping upgrade: Werkzeug>=0.14 in /Users/hellohbot/.pyenv/versions/3.6.8/envs/demo/lib/python3.6/site-packages (from flask~=1.0->rasa_core) (0.14.1)\n",
      "Requirement already satisfied, skipping upgrade: tzlocal>=1.2 in /Users/hellohbot/.pyenv/versions/3.6.8/envs/demo/lib/python3.6/site-packages (from apscheduler~=3.0->rasa_core) (1.5.1)\n",
      "Requirement already satisfied, skipping upgrade: requests-toolbelt in /Users/hellohbot/.pyenv/versions/3.6.8/envs/demo/lib/python3.6/site-packages (from webexteamssdk~=1.0->rasa_core) (0.8.0)\n",
      "Requirement already satisfied, skipping upgrade: urllib3<1.25,>=1.21.1 in /Users/hellohbot/.pyenv/versions/3.6.8/envs/demo/lib/python3.6/site-packages (from requests~=2.20->rasa_core) (1.24.1)\n",
      "Requirement already satisfied, skipping upgrade: chardet<3.1.0,>=3.0.2 in /Users/hellohbot/.pyenv/versions/3.6.8/envs/demo/lib/python3.6/site-packages (from requests~=2.20->rasa_core) (3.0.4)\n",
      "Requirement already satisfied, skipping upgrade: idna<2.9,>=2.5 in /Users/hellohbot/.pyenv/versions/3.6.8/envs/demo/lib/python3.6/site-packages (from requests~=2.20->rasa_core) (2.8)\n",
      "Requirement already satisfied, skipping upgrade: kiwisolver>=1.0.1 in /Users/hellohbot/.pyenv/versions/3.6.8/envs/demo/lib/python3.6/site-packages (from matplotlib~=2.0->rasa_nlu[spacy]) (1.0.1)\n",
      "Requirement already satisfied, skipping upgrade: cycler>=0.10 in /Users/hellohbot/.pyenv/versions/3.6.8/envs/demo/lib/python3.6/site-packages (from matplotlib~=2.0->rasa_nlu[spacy]) (0.10.0)\n",
      "Requirement already satisfied, skipping upgrade: Twisted>=15.5 in /Users/hellohbot/.pyenv/versions/3.6.8/envs/demo/lib/python3.6/site-packages (from klein->rasa_nlu[spacy]) (18.9.0)\n",
      "Requirement already satisfied, skipping upgrade: incremental in /Users/hellohbot/.pyenv/versions/3.6.8/envs/demo/lib/python3.6/site-packages (from klein->rasa_nlu[spacy]) (17.5.0)\n",
      "Requirement already satisfied, skipping upgrade: s3transfer<0.2.0,>=0.1.10 in /Users/hellohbot/.pyenv/versions/3.6.8/envs/demo/lib/python3.6/site-packages (from boto3->rasa_nlu[spacy]) (0.1.13)\n",
      "Requirement already satisfied, skipping upgrade: jmespath<1.0.0,>=0.7.1 in /Users/hellohbot/.pyenv/versions/3.6.8/envs/demo/lib/python3.6/site-packages (from boto3->rasa_nlu[spacy]) (0.9.3)\n",
      "Requirement already satisfied, skipping upgrade: botocore<1.13.0,>=1.12.83 in /Users/hellohbot/.pyenv/versions/3.6.8/envs/demo/lib/python3.6/site-packages (from boto3->rasa_nlu[spacy]) (1.12.83)\n",
      "Requirement already satisfied, skipping upgrade: plac<1.0.0,>=0.9.6 in /Users/hellohbot/.pyenv/versions/3.6.8/envs/demo/lib/python3.6/site-packages (from spacy<=2.0.12,>2.0; extra == \"spacy\"->rasa_nlu[spacy]) (0.9.6)\n",
      "Requirement already satisfied, skipping upgrade: ujson>=1.35 in /Users/hellohbot/.pyenv/versions/3.6.8/envs/demo/lib/python3.6/site-packages (from spacy<=2.0.12,>2.0; extra == \"spacy\"->rasa_nlu[spacy]) (1.35)\n",
      "Requirement already satisfied, skipping upgrade: murmurhash<0.29,>=0.28 in /Users/hellohbot/.pyenv/versions/3.6.8/envs/demo/lib/python3.6/site-packages (from spacy<=2.0.12,>2.0; extra == \"spacy\"->rasa_nlu[spacy]) (0.28.0)\n",
      "Requirement already satisfied, skipping upgrade: dill<0.3,>=0.2 in /Users/hellohbot/.pyenv/versions/3.6.8/envs/demo/lib/python3.6/site-packages (from spacy<=2.0.12,>2.0; extra == \"spacy\"->rasa_nlu[spacy]) (0.2.9)\n",
      "Requirement already satisfied, skipping upgrade: thinc<6.11.0,>=6.10.3 in /Users/hellohbot/.pyenv/versions/3.6.8/envs/demo/lib/python3.6/site-packages (from spacy<=2.0.12,>2.0; extra == \"spacy\"->rasa_nlu[spacy]) (6.10.3)\n",
      "Requirement already satisfied, skipping upgrade: cymem<1.32,>=1.30 in /Users/hellohbot/.pyenv/versions/3.6.8/envs/demo/lib/python3.6/site-packages (from spacy<=2.0.12,>2.0; extra == \"spacy\"->rasa_nlu[spacy]) (1.31.2)\n",
      "Requirement already satisfied, skipping upgrade: preshed<2.0.0,>=1.0.0 in /Users/hellohbot/.pyenv/versions/3.6.8/envs/demo/lib/python3.6/site-packages (from spacy<=2.0.12,>2.0; extra == \"spacy\"->rasa_nlu[spacy]) (1.0.1)\n",
      "Requirement already satisfied, skipping upgrade: python-crfsuite>=0.8.3 in /Users/hellohbot/.pyenv/versions/3.6.8/envs/demo/lib/python3.6/site-packages (from sklearn-crfsuite; extra == \"spacy\"->rasa_nlu[spacy]) (0.9.6)\n",
      "Requirement already satisfied, skipping upgrade: tabulate in /Users/hellohbot/.pyenv/versions/3.6.8/envs/demo/lib/python3.6/site-packages (from sklearn-crfsuite; extra == \"spacy\"->rasa_nlu[spacy]) (0.8.2)\n"
     ]
    },
    {
     "name": "stdout",
     "output_type": "stream",
     "text": [
      "Requirement already satisfied, skipping upgrade: markdown>=2.6.8 in /Users/hellohbot/.pyenv/versions/3.6.8/envs/demo/lib/python3.6/site-packages (from tensorboard<1.11.0,>=1.10.0->tensorflow==1.10.0->rasa_core) (3.0.1)\n",
      "Requirement already satisfied, skipping upgrade: MarkupSafe>=0.23 in /Users/hellohbot/.pyenv/versions/3.6.8/envs/demo/lib/python3.6/site-packages (from Jinja2>=2.10->flask~=1.0->rasa_core) (1.1.0)\n",
      "Requirement already satisfied, skipping upgrade: zope.interface>=4.4.2 in /Users/hellohbot/.pyenv/versions/3.6.8/envs/demo/lib/python3.6/site-packages (from Twisted>=15.5->klein->rasa_nlu[spacy]) (4.6.0)\n",
      "Requirement already satisfied, skipping upgrade: constantly>=15.1 in /Users/hellohbot/.pyenv/versions/3.6.8/envs/demo/lib/python3.6/site-packages (from Twisted>=15.5->klein->rasa_nlu[spacy]) (15.1.0)\n",
      "Requirement already satisfied, skipping upgrade: Automat>=0.3.0 in /Users/hellohbot/.pyenv/versions/3.6.8/envs/demo/lib/python3.6/site-packages (from Twisted>=15.5->klein->rasa_nlu[spacy]) (0.7.0)\n",
      "Requirement already satisfied, skipping upgrade: hyperlink>=17.1.1 in /Users/hellohbot/.pyenv/versions/3.6.8/envs/demo/lib/python3.6/site-packages (from Twisted>=15.5->klein->rasa_nlu[spacy]) (18.0.0)\n",
      "Requirement already satisfied, skipping upgrade: PyHamcrest>=1.9.0 in /Users/hellohbot/.pyenv/versions/3.6.8/envs/demo/lib/python3.6/site-packages (from Twisted>=15.5->klein->rasa_nlu[spacy]) (1.9.0)\n",
      "Requirement already satisfied, skipping upgrade: attrs>=17.4.0 in /Users/hellohbot/.pyenv/versions/3.6.8/envs/demo/lib/python3.6/site-packages (from Twisted>=15.5->klein->rasa_nlu[spacy]) (18.2.0)\n",
      "Requirement already satisfied, skipping upgrade: docutils>=0.10 in /Users/hellohbot/.pyenv/versions/3.6.8/envs/demo/lib/python3.6/site-packages (from botocore<1.13.0,>=1.12.83->boto3->rasa_nlu[spacy]) (0.14)\n",
      "Requirement already satisfied, skipping upgrade: cytoolz<0.10,>=0.9.0 in /Users/hellohbot/.pyenv/versions/3.6.8/envs/demo/lib/python3.6/site-packages (from thinc<6.11.0,>=6.10.3->spacy<=2.0.12,>2.0; extra == \"spacy\"->rasa_nlu[spacy]) (0.9.0.1)\n",
      "Requirement already satisfied, skipping upgrade: msgpack-numpy<1.0.0,>=0.4.1 in /Users/hellohbot/.pyenv/versions/3.6.8/envs/demo/lib/python3.6/site-packages (from thinc<6.11.0,>=6.10.3->spacy<=2.0.12,>2.0; extra == \"spacy\"->rasa_nlu[spacy]) (0.4.3.2)\n",
      "Requirement already satisfied, skipping upgrade: wrapt<1.11.0,>=1.10.0 in /Users/hellohbot/.pyenv/versions/3.6.8/envs/demo/lib/python3.6/site-packages (from thinc<6.11.0,>=6.10.3->spacy<=2.0.12,>2.0; extra == \"spacy\"->rasa_nlu[spacy]) (1.10.11)\n",
      "Requirement already satisfied, skipping upgrade: msgpack<1.0.0,>=0.5.6 in /Users/hellohbot/.pyenv/versions/3.6.8/envs/demo/lib/python3.6/site-packages (from thinc<6.11.0,>=6.10.3->spacy<=2.0.12,>2.0; extra == \"spacy\"->rasa_nlu[spacy]) (0.5.6)\n",
      "Requirement already satisfied, skipping upgrade: toolz>=0.8.0 in /Users/hellohbot/.pyenv/versions/3.6.8/envs/demo/lib/python3.6/site-packages (from cytoolz<0.10,>=0.9.0->thinc<6.11.0,>=6.10.3->spacy<=2.0.12,>2.0; extra == \"spacy\"->rasa_nlu[spacy]) (0.9.0)\n",
      "\u001b[31mjupyter-console 6.0.0 has requirement prompt-toolkit<2.1.0,>=2.0.0, but you'll have prompt-toolkit 1.0.14 which is incompatible.\u001b[0m\n",
      "\u001b[31mipython 7.2.0 has requirement prompt-toolkit<2.1.0,>=2.0.0, but you'll have prompt-toolkit 1.0.14 which is incompatible.\u001b[0m\n",
      "Installing collected packages: prompt-toolkit\n",
      "  Found existing installation: prompt-toolkit 2.0.7\n",
      "    Uninstalling prompt-toolkit-2.0.7:\n",
      "      Successfully uninstalled prompt-toolkit-2.0.7\n",
      "Successfully installed prompt-toolkit-1.0.14\n",
      "Requirement already satisfied: en_core_web_md==2.0.0 from https://github.com/explosion/spacy-models/releases/download/en_core_web_md-2.0.0/en_core_web_md-2.0.0.tar.gz#egg=en_core_web_md==2.0.0 in /Users/hellohbot/.pyenv/versions/3.6.8/envs/demo/lib/python3.6/site-packages (2.0.0)\n",
      "\n",
      "\u001b[93m    Linking successful\u001b[0m\n",
      "    /Users/hellohbot/.pyenv/versions/3.6.8/envs/demo/lib/python3.6/site-packages/en_core_web_md\n",
      "    -->\n",
      "    /Users/hellohbot/.pyenv/versions/3.6.8/envs/demo/lib/python3.6/site-packages/spacy/data/en_core_web_md\n",
      "\n",
      "    You can now load the model via spacy.load('en_core_web_md')\n",
      "\n",
      "\n",
      "\u001b[93m    Linking successful\u001b[0m\n",
      "    /Users/hellohbot/.pyenv/versions/3.6.8/envs/demo/lib/python3.6/site-packages/en_core_web_md\n",
      "    -->\n",
      "    /Users/hellohbot/.pyenv/versions/3.6.8/envs/demo/lib/python3.6/site-packages/spacy/data/en\n",
      "\n",
      "    You can now load the model via spacy.load('en')\n",
      "\n"
     ]
    }
   ],
   "source": [
    "import sys\n",
    "python = sys.executable\n",
    "\n",
    "# In your environment run:\n",
    "!{python} -m pip install -U rasa_core rasa_nlu[spacy];\n",
    "\n",
    "# as well as install a language model:\n",
    "!{python} -m spacy download en_core_web_md;\n",
    "!{python} -m spacy link --force en_core_web_md en;"
   ]
  },
  {
   "cell_type": "markdown",
   "metadata": {},
   "source": [
    "Let's check if the correct versions are installed (should be rasa_nlu: 0.12.3 rasa_core: 0.9.0) and the spacy model is available:"
   ]
  },
  {
   "cell_type": "code",
   "execution_count": 3,
   "metadata": {},
   "outputs": [
    {
     "name": "stdout",
     "output_type": "stream",
     "text": [
      "rasa_nlu: 0.13.8 rasa_core: 0.12.4\n",
      "Loading spaCy language model...\n",
      "Hello world!\n"
     ]
    }
   ],
   "source": [
    "import rasa_nlu\n",
    "import rasa_core\n",
    "import spacy\n",
    "\n",
    "print(\"rasa_nlu: {} rasa_core: {}\".format(rasa_nlu.__version__, rasa_core.__version__))\n",
    "print(\"Loading spaCy language model...\")\n",
    "print(spacy.load(\"en\")(\"Hello world!\"))"
   ]
  },
  {
   "cell_type": "markdown",
   "metadata": {},
   "source": [
    "### Some additional Tools needed\n",
    "To do some of the visualizations you will also need graphviz. If you don't have graphviz installed, and this doesn't work: don't worry. I'll show you the graph and besides that visualization everything else will work.\n",
    "\n",
    "Try installing with anyone of these (or adapt to your operating system):"
   ]
  },
  {
   "cell_type": "code",
   "execution_count": 4,
   "metadata": {
    "scrolled": true
   },
   "outputs": [
    {
     "name": "stdout",
     "output_type": "stream",
     "text": [
      "Updating Homebrew...\n",
      "\u001b[34m==>\u001b[0m \u001b[1mAuto-updated Homebrew!\u001b[0m\n",
      "Updated 1 tap (homebrew/core).\n",
      "\u001b[34m==>\u001b[0m \u001b[1mUpdated Formulae\u001b[0m\n",
      "graph-tool                 librsvg                    siril\n",
      "\n",
      "\u001b[33mWarning:\u001b[0m graphviz 2.40.1 is already installed and up-to-date\n",
      "To reinstall 2.40.1, run `brew reinstall graphviz`\n"
     ]
    }
   ],
   "source": [
    "#!apt-get -qq install -y graphviz libgraphviz-dev pkg-config;\n",
    "!brew install graphviz;"
   ]
  },
  {
   "cell_type": "markdown",
   "metadata": {},
   "source": [
    "and another python package and we are ready to go:"
   ]
  },
  {
   "cell_type": "code",
   "execution_count": 5,
   "metadata": {},
   "outputs": [
    {
     "name": "stdout",
     "output_type": "stream",
     "text": [
      "Requirement already satisfied: pygraphviz in /Users/hellohbot/.pyenv/versions/3.6.8/envs/demo/lib/python3.6/site-packages (1.5)\r\n"
     ]
    }
   ],
   "source": [
    "!{python} -m pip install pygraphviz;"
   ]
  },
  {
   "cell_type": "markdown",
   "metadata": {
    "colab_type": "text",
    "id": "cNa5KHl1nzhT"
   },
   "source": [
    "## Part 1: Add natural language understanding\n",
    "\n",
    "First thing our bot is going to learn is how to understand user messages. To do that, you're going to build a first version of your language understanding model with Rasa NLU. "
   ]
  },
  {
   "cell_type": "markdown",
   "metadata": {
    "colab_type": "text",
    "id": "GAlnWyGRwcwO"
   },
   "source": [
    "### Language Understanding\n",
    "\n",
    "\n",
    "Lets create some training data here, grouping user messages by their `intent`s. The intent describes what the messages *mean*. [More information about the data format](https://nlu.rasa.com/dataformat.html#markdown-format). This is the training data for our NLU model, one example per line. Entities are labeled using the markdown link syntex: `[entity value](entity_type)`:"
   ]
  },
  {
   "cell_type": "code",
   "execution_count": 4,
   "metadata": {
    "colab": {
     "autoexec": {
      "startup": false,
      "wait_interval": 0
     },
     "base_uri": "https://localhost:8080/",
     "height": 34
    },
    "colab_type": "code",
    "executionInfo": {
     "elapsed": 864,
     "status": "ok",
     "timestamp": 1521380057973,
     "user": {
      "displayName": "Alexander Weidauer",
      "photoUrl": "//lh6.googleusercontent.com/-j4xnI5_PFWA/AAAAAAAAAAI/AAAAAAAAAAo/wPT2w5Bl3xg/s50-c-k-no/photo.jpg",
      "userId": "100444450157165144272"
     },
     "user_tz": -60
    },
    "id": "V6KHWT2zeEh5",
    "outputId": "bab4845d-4ebc-4b9b-f8d9-2f701504a9c0"
   },
   "outputs": [
    {
     "name": "stdout",
     "output_type": "stream",
     "text": [
      "Writing 'nlu_md' (str) to file 'nlu.md'.\n"
     ]
    }
   ],
   "source": [
    "nlu_md = \"\"\"\n",
    "## intent:greet\n",
    "- hey I am [Peter](PERSON)\n",
    "- hello there I am [Hans](PERSON)\n",
    "- hi I am [Tom](PERSON)\n",
    "- hello there\n",
    "- good morning\n",
    "- good evening\n",
    "- moin\n",
    "- hey there\n",
    "- let's go\n",
    "- hey dude\n",
    "- goodmorning\n",
    "- goodevening\n",
    "- good afternoon\n",
    "\n",
    "## intent:goodbye\n",
    "- cu\n",
    "- good by\n",
    "- cee you later\n",
    "- good night\n",
    "- good afternoon\n",
    "- bye, from [Peter](PERSON)\n",
    "- goodbye\n",
    "- have a nice day\n",
    "- see you around\n",
    "- bye bye\n",
    "- see you later\n",
    "\n",
    "## intent:mood_affirm\n",
    "- yes\n",
    "- indeed\n",
    "- of course\n",
    "- that sounds good\n",
    "- correct\n",
    "\n",
    "## intent:mood_deny\n",
    "- no\n",
    "- never\n",
    "- I don't think so\n",
    "- don't like that\n",
    "- no way\n",
    "- not really\n",
    "\n",
    "## intent:mood_great\n",
    "- perfect\n",
    "- very good\n",
    "- great\n",
    "- amazing\n",
    "- feeling like a king\n",
    "- wonderful\n",
    "- I am feeling very good\n",
    "- I am great\n",
    "- I am amazing\n",
    "- I am going to save the world\n",
    "- super\n",
    "- extremely good\n",
    "- so so perfect\n",
    "- so good\n",
    "- so perfect\n",
    "\n",
    "## intent:mood_unhappy\n",
    "- my day was horrible\n",
    "- I am sad\n",
    "- I don't feel very well\n",
    "- I am disappointed\n",
    "- super sad\n",
    "- I'm so sad\n",
    "- sad\n",
    "- very sad\n",
    "- unhappy\n",
    "- bad\n",
    "- very bad\n",
    "- awful\n",
    "- terrible\n",
    "- not so good\n",
    "- not very good\n",
    "- extremly sad\n",
    "- so saad\n",
    "- so sad\n",
    "\"\"\"\n",
    "\n",
    "%store nlu_md > nlu.md"
   ]
  },
  {
   "cell_type": "markdown",
   "metadata": {},
   "source": [
    "To properly train your NLU model, you also need to define what is part of that model. Rasa NLU uses a similar pipeline concept as sklearn does. All the components that are listed in the pipeline will be trained one after another and everyone of them contributes its part to the structured data extraction:"
   ]
  },
  {
   "cell_type": "code",
   "execution_count": 5,
   "metadata": {},
   "outputs": [
    {
     "name": "stdout",
     "output_type": "stream",
     "text": [
      "Writing 'config' (str) to file 'config.yml'.\n"
     ]
    }
   ],
   "source": [
    "config = \"\"\"\n",
    "language: \"en\"\n",
    "\n",
    "pipeline:\n",
    "- name: \"nlp_spacy\"                   # loads the spacy language model\n",
    "- name: \"tokenizer_spacy\"             # splits the sentence into tokens\n",
    "- name: \"ner_spacy\"                   # pretrained spacy NER model\n",
    "- name: \"intent_featurizer_spacy\"     # transform the sentence into a vector representation\n",
    "- name: \"intent_classifier_sklearn\"   # uses the vector representation to classify using SVM\n",
    "\"\"\" \n",
    "\n",
    "%store config > config.yml"
   ]
  },
  {
   "cell_type": "markdown",
   "metadata": {},
   "source": [
    "You can also include your own components there - e.g. doing sentiment analysis. More information about [components and their lifecycle](https://nlu.rasa.com/pipeline.html?highlight=components#component-lifecycle)."
   ]
  },
  {
   "cell_type": "markdown",
   "metadata": {
    "colab_type": "text",
    "id": "1xeXgpdwzOAl"
   },
   "source": [
    "### Train the Rasa NLU Model\n",
    "\n",
    "You're going to train a model to recognise these intents, so that when you send a message like \"hello\" to your bot, it will recognise this as a `\"greet\"` intent."
   ]
  },
  {
   "cell_type": "code",
   "execution_count": 9,
   "metadata": {
    "colab": {
     "autoexec": {
      "startup": false,
      "wait_interval": 0
     },
     "base_uri": "https://localhost:8080/",
     "height": 377
    },
    "colab_type": "code",
    "executionInfo": {
     "elapsed": 2821,
     "status": "ok",
     "timestamp": 1521380062879,
     "user": {
      "displayName": "Alexander Weidauer",
      "photoUrl": "//lh6.googleusercontent.com/-j4xnI5_PFWA/AAAAAAAAAAI/AAAAAAAAAAo/wPT2w5Bl3xg/s50-c-k-no/photo.jpg",
      "userId": "100444450157165144272"
     },
     "user_tz": -60
    },
    "id": "qHsAH49OePcM",
    "outputId": "f840c42d-acf2-4fbf-b439-e5a239ffb32b",
    "scrolled": true
   },
   "outputs": [
    {
     "name": "stderr",
     "output_type": "stream",
     "text": [
      "INFO:rasa_nlu.training_data.loading:Training data format of nlu.md is md\n",
      "INFO:rasa_nlu.training_data.training_data:Training data stats: \n",
      "\t- intent examples: 68 (6 distinct intents)\n",
      "\t- Found intents: 'mood_unhappy', 'goodbye', 'mood_affirm', 'greet', 'mood_deny', 'mood_great'\n",
      "\t- entity examples: 4 (1 distinct entities)\n",
      "\t- found entities: 'PERSON'\n",
      "\n",
      "INFO:rasa_nlu.utils.spacy_utils:Trying to load spacy model with name 'en'\n",
      "INFO:rasa_nlu.components:Added 'nlp_spacy' to component cache. Key 'nlp_spacy-en'.\n",
      "INFO:rasa_nlu.model:Starting to train component nlp_spacy\n",
      "INFO:rasa_nlu.model:Finished training component.\n",
      "INFO:rasa_nlu.model:Starting to train component tokenizer_spacy\n",
      "INFO:rasa_nlu.model:Finished training component.\n",
      "INFO:rasa_nlu.model:Starting to train component ner_spacy\n",
      "INFO:rasa_nlu.model:Finished training component.\n",
      "INFO:rasa_nlu.model:Starting to train component intent_featurizer_spacy\n",
      "INFO:rasa_nlu.model:Finished training component.\n",
      "INFO:rasa_nlu.model:Starting to train component intent_classifier_sklearn\n",
      "[Parallel(n_jobs=1)]: Done  12 out of  12 | elapsed:    0.1s finished\n",
      "INFO:rasa_nlu.model:Finished training component.\n",
      "INFO:rasa_nlu.model:Successfully saved model into '/Users/hellohbot/study/rasa-demo-pydata18/models/nlu/default/current'\n"
     ]
    },
    {
     "name": "stdout",
     "output_type": "stream",
     "text": [
      "Fitting 2 folds for each of 6 candidates, totalling 12 fits\n"
     ]
    }
   ],
   "source": [
    "from rasa_nlu.training_data import load_data\n",
    "from rasa_nlu.config import RasaNLUModelConfig\n",
    "from rasa_nlu.model import Trainer\n",
    "from rasa_nlu import config\n",
    "\n",
    "# loading the nlu training samples\n",
    "training_data = load_data(\"nlu.md\")\n",
    "\n",
    "# trainer to educate our pipeline\n",
    "trainer = Trainer(config.load(\"config.yml\"))\n",
    "\n",
    "# train the model!\n",
    "interpreter = trainer.train(training_data)\n",
    "\n",
    "# store it for future use\n",
    "model_directory = trainer.persist(\"./models/nlu\", fixed_model_name=\"current\")"
   ]
  },
  {
   "cell_type": "markdown",
   "metadata": {
    "colab_type": "text",
    "id": "1xeXgpdwzOAl"
   },
   "source": [
    "### Extending the NLU model\n",
    "BUT: what about entities? Let's add some pretrained entities! https://spacy.io/api/annotation#named-entities\n",
    "\n",
    "### Use & evaluate the NLU model\n",
    "Let's play around with the model and shoot it some messages:"
   ]
  },
  {
   "cell_type": "code",
   "execution_count": 10,
   "metadata": {
    "colab": {
     "autoexec": {
      "startup": false,
      "wait_interval": 0
     },
     "base_uri": "https://localhost:8080/",
     "height": 377
    },
    "colab_type": "code",
    "executionInfo": {
     "elapsed": 2821,
     "status": "ok",
     "timestamp": 1521380062879,
     "user": {
      "displayName": "Alexander Weidauer",
      "photoUrl": "//lh6.googleusercontent.com/-j4xnI5_PFWA/AAAAAAAAAAI/AAAAAAAAAAo/wPT2w5Bl3xg/s50-c-k-no/photo.jpg",
      "userId": "100444450157165144272"
     },
     "user_tz": -60
    },
    "id": "qHsAH49OePcM",
    "outputId": "f840c42d-acf2-4fbf-b439-e5a239ffb32b"
   },
   "outputs": [
    {
     "name": "stdout",
     "output_type": "stream",
     "text": [
      "{\n",
      "  \"intent\": {\n",
      "    \"name\": \"greet\",\n",
      "    \"confidence\": 0.4499532883211186\n",
      "  },\n",
      "  \"entities\": [\n",
      "    {\n",
      "      \"entity\": \"PERSON\",\n",
      "      \"value\": \"Tom\",\n",
      "      \"start\": 9,\n",
      "      \"confidence\": null,\n",
      "      \"end\": 12,\n",
      "      \"extractor\": \"ner_spacy\"\n",
      "    }\n",
      "  ],\n",
      "  \"intent_ranking\": [\n",
      "    {\n",
      "      \"name\": \"greet\",\n",
      "      \"confidence\": 0.4499532883211186\n",
      "    },\n",
      "    {\n",
      "      \"name\": \"goodbye\",\n",
      "      \"confidence\": 0.17362097727480033\n",
      "    },\n",
      "    {\n",
      "      \"name\": \"mood_unhappy\",\n",
      "      \"confidence\": 0.15340295729136025\n",
      "    },\n",
      "    {\n",
      "      \"name\": \"mood_great\",\n",
      "      \"confidence\": 0.1361365648661849\n",
      "    },\n",
      "    {\n",
      "      \"name\": \"mood_affirm\",\n",
      "      \"confidence\": 0.04359083819571122\n",
      "    },\n",
      "    {\n",
      "      \"name\": \"mood_deny\",\n",
      "      \"confidence\": 0.043295374050824474\n",
      "    }\n",
      "  ],\n",
      "  \"text\": \"hey I am Tom\"\n",
      "}\n"
     ]
    }
   ],
   "source": [
    "pprint(interpreter.parse(\"hey I am Tom\"))"
   ]
  },
  {
   "cell_type": "markdown",
   "metadata": {},
   "source": [
    "Instead of evaluating it by hand, the model can also be evaluated on a test data set (though for simplicity we are going to use the same for test and train):"
   ]
  },
  {
   "cell_type": "code",
   "execution_count": 11,
   "metadata": {},
   "outputs": [
    {
     "name": "stderr",
     "output_type": "stream",
     "text": [
      "INFO:rasa_nlu.components:Added 'nlp_spacy' to component cache. Key 'nlp_spacy-en'.\n",
      "INFO:rasa_nlu.training_data.loading:Training data format of nlu.md is md\n",
      "INFO:rasa_nlu.training_data.training_data:Training data stats: \n",
      "\t- intent examples: 68 (6 distinct intents)\n",
      "\t- Found intents: 'mood_unhappy', 'goodbye', 'mood_affirm', 'greet', 'mood_deny', 'mood_great'\n",
      "\t- entity examples: 4 (1 distinct entities)\n",
      "\t- found entities: 'PERSON'\n",
      "\n",
      "INFO:rasa_nlu.evaluate:Intent evaluation results:\n",
      "INFO:rasa_nlu.evaluate:Intent Evaluation: Only considering those 68 examples that have a defined intent out of 68 examples\n",
      "INFO:rasa_nlu.evaluate:F1-Score:  0.8839572192513369\n",
      "INFO:rasa_nlu.evaluate:Precision: 0.9330882352941177\n",
      "INFO:rasa_nlu.evaluate:Accuracy:  0.8970588235294118\n",
      "INFO:rasa_nlu.evaluate:Classification report: \n",
      "              precision    recall  f1-score   support\n",
      "\n",
      "     goodbye       1.00      0.36      0.53        11\n",
      "       greet       0.65      1.00      0.79        13\n",
      " mood_affirm       1.00      1.00      1.00         5\n",
      "   mood_deny       1.00      1.00      1.00         6\n",
      "  mood_great       1.00      1.00      1.00        15\n",
      "mood_unhappy       1.00      1.00      1.00        18\n",
      "\n",
      " avg / total       0.93      0.90      0.88        68\n",
      "\n",
      "INFO:rasa_nlu.evaluate:There were some nlu intent classification errors. Use `--verbose` to show them in the log.\n",
      "INFO:rasa_nlu.evaluate:Model prediction errors saved to errors.json.\n",
      "INFO:rasa_nlu.evaluate:Confusion matrix, without normalization: \n",
      "[[ 4  7  0  0  0  0]\n",
      " [ 0 13  0  0  0  0]\n",
      " [ 0  0  5  0  0  0]\n",
      " [ 0  0  0  6  0  0]\n",
      " [ 0  0  0  0 15  0]\n",
      " [ 0  0  0  0  0 18]]\n"
     ]
    },
    {
     "data": {
      "image/png": "[encoded data removed]",
      "text/plain": [
       "<Figure size 432x288 with 2 Axes>"
      ]
     },
     "metadata": {
      "needs_background": "light"
     },
     "output_type": "display_data"
    },
    {
     "data": {
      "image/png": "[encoded data removed]",
      "text/plain": [
       "<Figure size 432x288 with 1 Axes>"
      ]
     },
     "metadata": {
      "needs_background": "light"
     },
     "output_type": "display_data"
    },
    {
     "name": "stderr",
     "output_type": "stream",
     "text": [
      "INFO:rasa_nlu.evaluate:Entity evaluation results:\n",
      "INFO:rasa_nlu.evaluate:Evaluation for entity extractor: ner_spacy \n",
      "INFO:rasa_nlu.evaluate:F1-Score:  0.9714078899746652\n",
      "INFO:rasa_nlu.evaluate:Precision: 1.0\n",
      "INFO:rasa_nlu.evaluate:Accuracy:  0.9444444444444444\n",
      "INFO:rasa_nlu.evaluate:Classification report: \n",
      "             precision    recall  f1-score   support\n",
      "\n",
      "       DATE       0.00      0.00      0.00         0\n",
      "     PERSON       1.00      1.00      1.00         4\n",
      "       TIME       0.00      0.00      0.00         0\n",
      "  no_entity       1.00      0.94      0.97       158\n",
      "\n",
      "avg / total       1.00      0.94      0.97       162\n",
      "\n"
     ]
    }
   ],
   "source": [
    "from rasa_nlu.evaluate import run_evaluation\n",
    "\n",
    "run_evaluation(\"nlu.md\", model_directory)"
   ]
  },
  {
   "cell_type": "markdown",
   "metadata": {
    "colab_type": "text",
    "id": "tK5os3OinphP"
   },
   "source": [
    "# Part 2: Adding dialogue capabilities"
   ]
  },
  {
   "cell_type": "markdown",
   "metadata": {
    "colab_type": "text",
    "id": "BBF6Nqi9scQE"
   },
   "source": [
    "### Writing Stories\n",
    "\n",
    "A good place to start is by writing a few stories. These are example conversations that Rasa Core will learn from. \n",
    "\n",
    "The format works like this:\n",
    "\n",
    "A story starts with `##` and you can give it a name. \n",
    "lines that start with `*` are messages sent by the user. Although you don't write the *actual* message, but rather the intent (and the entities) that represent what the user *means*. If you don't know about intents and entities, don't worry! We will talk about them more later. \n",
    "Lines that start with `-` are *actions* taken by your bot. In this case all of our actions are just messages sent back to the user, like `utter_greet`, but in general an action can do anything, including calling an API and interacting with the outside world. "
   ]
  },
  {
   "cell_type": "code",
   "execution_count": 20,
   "metadata": {
    "colab": {
     "autoexec": {
      "startup": false,
      "wait_interval": 0
     },
     "base_uri": "https://localhost:8080/",
     "height": 34
    },
    "colab_type": "code",
    "executionInfo": {
     "elapsed": 568,
     "status": "ok",
     "timestamp": 1521575049982,
     "user": {
      "displayName": "Ricardo Wölker",
      "photoUrl": "https://lh3.googleusercontent.com/a/default-user=s128",
      "userId": "115384113157413623365"
     },
     "user_tz": 0
    },
    "id": "zamaNW4RsrLe",
    "outputId": "6203e4c3-46a3-4c43-add6-95a70d4a6d50"
   },
   "outputs": [
    {
     "name": "stdout",
     "output_type": "stream",
     "text": [
      "Writing 'stories_md' (str) to file 'stories.md'.\n"
     ]
    }
   ],
   "source": [
    "stories_md = \"\"\"\n",
    "## happy path   <!-- name of the story - just for debuggin -->\n",
    "* greet\n",
    "  - utter_greet\n",
    "* mood_great    <!-- user utterance, in format intent[entities] -->\n",
    "  - utter_happy\n",
    "* mood_affirm\n",
    "  - utter_happy\n",
    "* mood_affirm\n",
    "  - utter_goodbye\n",
    "  \n",
    "## sad path 1   <!-- The start of the next story -->\n",
    "* greet\n",
    "  - utter_greet <!-- action the bot should execute -->\n",
    "* mood_unhappy\n",
    "  - utter_cheer_up\n",
    "  - utter_did_that_help\n",
    "* mood_affirm\n",
    "  - utter_happy\n",
    "  \n",
    "## sad path 2\n",
    "* greet\n",
    "  - utter_greet\n",
    "* mood_unhappy\n",
    "  - utter_cheer_up\n",
    "  - utter_did_that_help\n",
    "* mood_deny\n",
    "  - utter_goodbye\n",
    "  \n",
    "## strange user\n",
    "* mood_affirm\n",
    "  - utter_happy\n",
    "* mood_affirm\n",
    "  - utter_unclear\n",
    "  \n",
    "## say goodbye\n",
    "* goodbye\n",
    "  - utter_goodbye\n",
    "  \n",
    "## fallback\n",
    "- utter_unclear\n",
    "\n",
    "\"\"\"\n",
    "\n",
    "%store stories_md > stories.md"
   ]
  },
  {
   "cell_type": "markdown",
   "metadata": {
    "colab_type": "text",
    "id": "Fs3nOUzBsqrG"
   },
   "source": [
    "### Defining a Domain\n",
    "\n",
    "The domain specifies the universe that your bot lives in. You should list all of the intents and actions that show up in your stories. \n",
    "This is also the place to write templates, which contain the messages your bot can send back"
   ]
  },
  {
   "cell_type": "code",
   "execution_count": 21,
   "metadata": {
    "colab": {
     "autoexec": {
      "startup": false,
      "wait_interval": 0
     },
     "base_uri": "https://localhost:8080/",
     "height": 34
    },
    "colab_type": "code",
    "executionInfo": {
     "elapsed": 465,
     "status": "ok",
     "timestamp": 1521575053606,
     "user": {
      "displayName": "Ricardo Wölker",
      "photoUrl": "https://lh3.googleusercontent.com/a/default-user=s128",
      "userId": "115384113157413623365"
     },
     "user_tz": 0
    },
    "id": "WB6eIXVkAOSX",
    "outputId": "566b7c42-3772-4754-df55-19874543108c"
   },
   "outputs": [
    {
     "name": "stdout",
     "output_type": "stream",
     "text": [
      "Writing 'domain_yml' (str) to file 'domain.yml'.\n"
     ]
    }
   ],
   "source": [
    "domain_yml = \"\"\"\n",
    "intents:\n",
    "- greet\n",
    "- goodbye\n",
    "- mood_affirm\n",
    "- mood_deny\n",
    "- mood_great\n",
    "- mood_unhappy\n",
    "\n",
    "actions:\n",
    "- utter_greet\n",
    "- utter_cheer_up\n",
    "- utter_did_that_help\n",
    "- utter_happy\n",
    "- utter_goodbye\n",
    "- utter_unclear\n",
    "\n",
    "templates:\n",
    "  utter_greet:\n",
    "  - text: \"Hey! How are you?\"\n",
    "\n",
    "  utter_cheer_up:\n",
    "  - text: \"Here is something to cheer you up: summer is around the corner!\"\n",
    "\n",
    "  utter_did_that_help:\n",
    "  - text: \"Did that help you?\"\n",
    "\n",
    "  utter_unclear:\n",
    "  - text: \"I am not sure what you are aiming for.\"\n",
    "  \n",
    "  utter_happy:\n",
    "  - text: \"Great carry on!\"\n",
    "\n",
    "  utter_goodbye:\n",
    "  - text: \"Bye\"\n",
    "\"\"\"\n",
    "\n",
    "%store domain_yml > domain.yml"
   ]
  },
  {
   "cell_type": "markdown",
   "metadata": {
    "colab_type": "text",
    "id": "qWALQbCdwGxK"
   },
   "source": [
    "### Pro Tip: Visualising the Training Data\n",
    "\n",
    "You can visualise the stories to get a sense of how the conversations go. This is usually a good way to see if there are any stories which don't make sense\n"
   ]
  },
  {
   "cell_type": "code",
   "execution_count": 27,
   "metadata": {
    "colab": {
     "autoexec": {
      "startup": false,
      "wait_interval": 0
     },
     "base_uri": "https://localhost:8080/",
     "height": 895
    },
    "colab_type": "code",
    "executionInfo": {
     "elapsed": 2808,
     "status": "ok",
     "timestamp": 1521380138202,
     "user": {
      "displayName": "Alexander Weidauer",
      "photoUrl": "//lh6.googleusercontent.com/-j4xnI5_PFWA/AAAAAAAAAAI/AAAAAAAAAAo/wPT2w5Bl3xg/s50-c-k-no/photo.jpg",
      "userId": "100444450157165144272"
     },
     "user_tz": -60
    },
    "id": "zl6vtV72BDaV",
    "outputId": "2468f1bf-3fd0-42f0-9338-8f48c8cad3dd"
   },
   "outputs": [
    {
     "name": "stderr",
     "output_type": "stream",
     "text": [
      "Processed Story Blocks: 100%|██████████| 6/6 [00:00<00:00, 571.28it/s, # trackers=1]\n"
     ]
    }
   ],
   "source": [
    "from IPython.display import Image\n",
    "from rasa_core.agent import Agent\n",
    "\n",
    "agent = Agent('domain.yml')\n",
    "agent.visualize(\"stories.md\", output_file=\"story_graph.html\", \n",
    "                max_history=2)"
   ]
  },
  {
   "cell_type": "markdown",
   "metadata": {
    "colab_type": "text",
    "id": "zQxY6m6kvlj3"
   },
   "source": [
    "### Training your Dialogue Model\n",
    "\n",
    "Now comes the fun part! We're going to show Rasa Core the stories we wrote above, and train a model on these examples. \n",
    "In this case, the model is a neural network implemented in Keras which learns to predict which action to take next. "
   ]
  },
  {
   "cell_type": "code",
   "execution_count": 15,
   "metadata": {
    "colab": {
     "autoexec": {
      "startup": false,
      "wait_interval": 0
     },
     "base_uri": "https://localhost:8080/",
     "height": 14025
    },
    "colab_type": "code",
    "executionInfo": {
     "elapsed": 12554,
     "status": "ok",
     "timestamp": 1521575068686,
     "user": {
      "displayName": "Ricardo Wölker",
      "photoUrl": "https://lh3.googleusercontent.com/a/default-user=s128",
      "userId": "115384113157413623365"
     },
     "user_tz": 0
    },
    "id": "PKV49d7tAxmS",
    "outputId": "ccb26bea-5be8-48f7-a88e-d70a6e4a1733"
   },
   "outputs": [
    {
     "name": "stderr",
     "output_type": "stream",
     "text": [
      "Processed Story Blocks: 100%|██████████| 1/1 [00:00<00:00, 540.50it/s, # trackers=1]\n",
      "Processed Story Blocks: 100%|██████████| 1/1 [00:00<00:00, 432.31it/s, # trackers=1]\n",
      "Processed Story Blocks: 100%|██████████| 1/1 [00:00<00:00, 394.28it/s, # trackers=2]\n",
      "Processed Story Blocks: 100%|██████████| 1/1 [00:00<00:00, 145.35it/s, # trackers=3]\n",
      "Processed actions: 7it [00:00, 411.26it/s, # examples=7]\n",
      "INFO:rasa_core.policies.keras_policy:Fitting model with 7 total samples and a validation split of 0.1\n"
     ]
    },
    {
     "name": "stdout",
     "output_type": "stream",
     "text": [
      "_________________________________________________________________\n",
      "Layer (type)                 Output Shape              Param #   \n",
      "=================================================================\n",
      "masking (Masking)            (None, 5, 16)             0         \n",
      "_________________________________________________________________\n",
      "lstm (LSTM)                  (None, 32)                6272      \n",
      "_________________________________________________________________\n",
      "dense (Dense)                (None, 10)                330       \n",
      "_________________________________________________________________\n",
      "activation (Activation)      (None, 10)                0         \n",
      "=================================================================\n",
      "Total params: 6,602\n",
      "Trainable params: 6,602\n",
      "Non-trainable params: 0\n",
      "_________________________________________________________________\n",
      "Epoch 1/100\n",
      "7/7 [==============================] - 1s 128ms/step - loss: 2.3010 - acc: 0.1429\n",
      "Epoch 2/100\n",
      "7/7 [==============================] - 0s 1ms/step - loss: 2.2518 - acc: 0.1429\n",
      "Epoch 3/100\n",
      "7/7 [==============================] - 0s 1ms/step - loss: 2.2796 - acc: 0.1429\n",
      "Epoch 4/100\n",
      "7/7 [==============================] - 0s 1ms/step - loss: 2.2482 - acc: 0.1429\n",
      "Epoch 5/100\n",
      "7/7 [==============================] - 0s 1ms/step - loss: 2.2139 - acc: 0.2857\n",
      "Epoch 6/100\n",
      "7/7 [==============================] - 0s 1ms/step - loss: 2.1846 - acc: 0.2857\n",
      "Epoch 7/100\n",
      "7/7 [==============================] - 0s 1ms/step - loss: 2.1530 - acc: 0.2857\n",
      "Epoch 8/100\n",
      "7/7 [==============================] - 0s 1ms/step - loss: 2.1297 - acc: 0.4286\n",
      "Epoch 9/100\n",
      "7/7 [==============================] - 0s 1ms/step - loss: 2.0855 - acc: 0.4286\n",
      "Epoch 10/100\n",
      "7/7 [==============================] - 0s 858us/step - loss: 2.0739 - acc: 0.4286\n",
      "Epoch 11/100\n",
      "7/7 [==============================] - 0s 874us/step - loss: 2.1030 - acc: 0.4286\n",
      "Epoch 12/100\n",
      "7/7 [==============================] - 0s 979us/step - loss: 2.0386 - acc: 0.4286\n",
      "Epoch 13/100\n",
      "7/7 [==============================] - 0s 1ms/step - loss: 2.0193 - acc: 0.4286\n",
      "Epoch 14/100\n",
      "7/7 [==============================] - 0s 2ms/step - loss: 1.9845 - acc: 0.4286\n",
      "Epoch 15/100\n",
      "7/7 [==============================] - 0s 1ms/step - loss: 2.0099 - acc: 0.2857\n",
      "Epoch 16/100\n",
      "7/7 [==============================] - 0s 901us/step - loss: 2.0465 - acc: 0.1429\n",
      "Epoch 17/100\n",
      "7/7 [==============================] - 0s 923us/step - loss: 1.9149 - acc: 0.2857\n",
      "Epoch 18/100\n",
      "7/7 [==============================] - 0s 1ms/step - loss: 1.9274 - acc: 0.5714\n",
      "Epoch 19/100\n",
      "7/7 [==============================] - 0s 822us/step - loss: 1.9444 - acc: 0.4286\n",
      "Epoch 20/100\n",
      "7/7 [==============================] - 0s 897us/step - loss: 1.9030 - acc: 0.1429\n",
      "Epoch 21/100\n",
      "7/7 [==============================] - 0s 1ms/step - loss: 1.8772 - acc: 0.5714\n",
      "Epoch 22/100\n",
      "7/7 [==============================] - 0s 1ms/step - loss: 1.8541 - acc: 0.2857\n",
      "Epoch 23/100\n",
      "7/7 [==============================] - 0s 1ms/step - loss: 1.8472 - acc: 0.4286\n",
      "Epoch 24/100\n",
      "7/7 [==============================] - 0s 1ms/step - loss: 1.8065 - acc: 0.2857\n",
      "Epoch 25/100\n",
      "7/7 [==============================] - 0s 1ms/step - loss: 1.7759 - acc: 0.5714\n",
      "Epoch 26/100\n",
      "7/7 [==============================] - 0s 1ms/step - loss: 1.7426 - acc: 0.5714\n",
      "Epoch 27/100\n",
      "7/7 [==============================] - 0s 1ms/step - loss: 1.8994 - acc: 0.4286\n",
      "Epoch 28/100\n",
      "7/7 [==============================] - 0s 914us/step - loss: 1.8406 - acc: 0.4286\n",
      "Epoch 29/100\n",
      "7/7 [==============================] - 0s 917us/step - loss: 1.6865 - acc: 0.2857\n",
      "Epoch 30/100\n",
      "7/7 [==============================] - 0s 1ms/step - loss: 1.6622 - acc: 0.4286\n",
      "Epoch 31/100\n",
      "7/7 [==============================] - 0s 1ms/step - loss: 1.7223 - acc: 0.5714\n",
      "Epoch 32/100\n",
      "7/7 [==============================] - 0s 1ms/step - loss: 1.6218 - acc: 0.5714\n",
      "Epoch 33/100\n",
      "7/7 [==============================] - 0s 1ms/step - loss: 1.8139 - acc: 0.4286\n",
      "Epoch 34/100\n",
      "7/7 [==============================] - 0s 1ms/step - loss: 1.5743 - acc: 0.2857\n",
      "Epoch 35/100\n",
      "7/7 [==============================] - 0s 1ms/step - loss: 1.5632 - acc: 0.5714\n",
      "Epoch 36/100\n",
      "7/7 [==============================] - 0s 1ms/step - loss: 1.7360 - acc: 0.4286\n",
      "Epoch 37/100\n",
      "7/7 [==============================] - 0s 945us/step - loss: 1.6125 - acc: 0.4286\n",
      "Epoch 38/100\n",
      "7/7 [==============================] - 0s 956us/step - loss: 1.5888 - acc: 0.4286\n",
      "Epoch 39/100\n",
      "7/7 [==============================] - 0s 1ms/step - loss: 1.5365 - acc: 0.4286\n",
      "Epoch 40/100\n",
      "7/7 [==============================] - 0s 826us/step - loss: 1.4951 - acc: 0.5714\n",
      "Epoch 41/100\n",
      "7/7 [==============================] - 0s 1ms/step - loss: 1.4914 - acc: 0.2857\n",
      "Epoch 42/100\n",
      "7/7 [==============================] - 0s 933us/step - loss: 1.5542 - acc: 0.2857\n",
      "Epoch 43/100\n",
      "7/7 [==============================] - 0s 2ms/step - loss: 1.3779 - acc: 0.5714\n",
      "Epoch 44/100\n",
      "7/7 [==============================] - 0s 1ms/step - loss: 1.3856 - acc: 0.4286\n",
      "Epoch 45/100\n",
      "7/7 [==============================] - 0s 1ms/step - loss: 1.4383 - acc: 0.4286\n",
      "Epoch 46/100\n",
      "7/7 [==============================] - 0s 1ms/step - loss: 1.4927 - acc: 0.4286\n",
      "Epoch 47/100\n",
      "7/7 [==============================] - 0s 1ms/step - loss: 1.3516 - acc: 0.4286\n",
      "Epoch 48/100\n",
      "7/7 [==============================] - 0s 1ms/step - loss: 1.4311 - acc: 0.4286\n",
      "Epoch 49/100\n",
      "7/7 [==============================] - 0s 982us/step - loss: 1.4466 - acc: 0.2857\n",
      "Epoch 50/100\n",
      "7/7 [==============================] - 0s 1ms/step - loss: 1.3130 - acc: 0.5714\n",
      "Epoch 51/100\n",
      "7/7 [==============================] - 0s 1ms/step - loss: 1.2969 - acc: 0.4286\n",
      "Epoch 52/100\n",
      "7/7 [==============================] - 0s 1ms/step - loss: 1.2534 - acc: 0.4286\n",
      "Epoch 53/100\n",
      "7/7 [==============================] - 0s 739us/step - loss: 1.2916 - acc: 0.5714\n",
      "Epoch 54/100\n",
      "7/7 [==============================] - 0s 985us/step - loss: 1.2292 - acc: 0.7143\n",
      "Epoch 55/100\n",
      "7/7 [==============================] - 0s 1ms/step - loss: 1.2364 - acc: 0.4286\n",
      "Epoch 56/100\n",
      "7/7 [==============================] - 0s 1ms/step - loss: 1.3270 - acc: 0.4286\n",
      "Epoch 57/100\n",
      "7/7 [==============================] - 0s 1ms/step - loss: 1.2036 - acc: 0.4286\n",
      "Epoch 58/100\n",
      "7/7 [==============================] - 0s 811us/step - loss: 1.2541 - acc: 0.7143\n",
      "Epoch 59/100\n",
      "7/7 [==============================] - 0s 1ms/step - loss: 1.1732 - acc: 0.7143\n",
      "Epoch 60/100\n",
      "7/7 [==============================] - 0s 906us/step - loss: 1.1476 - acc: 0.8571\n",
      "Epoch 61/100\n",
      "7/7 [==============================] - 0s 1ms/step - loss: 1.1792 - acc: 0.7143\n",
      "Epoch 62/100\n",
      "7/7 [==============================] - 0s 1ms/step - loss: 1.2487 - acc: 0.7143\n",
      "Epoch 63/100\n",
      "7/7 [==============================] - 0s 1ms/step - loss: 1.2733 - acc: 0.4286\n",
      "Epoch 64/100\n",
      "7/7 [==============================] - 0s 1ms/step - loss: 1.1731 - acc: 0.4286\n",
      "Epoch 65/100\n",
      "7/7 [==============================] - 0s 900us/step - loss: 1.1170 - acc: 0.8571\n",
      "Epoch 66/100\n",
      "7/7 [==============================] - 0s 1ms/step - loss: 1.1765 - acc: 0.7143\n",
      "Epoch 67/100\n",
      "7/7 [==============================] - 0s 886us/step - loss: 1.1529 - acc: 0.5714\n",
      "Epoch 68/100\n",
      "7/7 [==============================] - 0s 1ms/step - loss: 1.1610 - acc: 0.5714\n",
      "Epoch 69/100\n",
      "7/7 [==============================] - 0s 1ms/step - loss: 1.1153 - acc: 0.5714\n",
      "Epoch 70/100\n",
      "7/7 [==============================] - 0s 1ms/step - loss: 1.1473 - acc: 0.4286\n",
      "Epoch 71/100\n",
      "7/7 [==============================] - 0s 1ms/step - loss: 1.0786 - acc: 0.7143\n",
      "Epoch 72/100\n",
      "7/7 [==============================] - 0s 1ms/step - loss: 1.1458 - acc: 0.7143\n",
      "Epoch 73/100\n",
      "7/7 [==============================] - 0s 1ms/step - loss: 1.1680 - acc: 0.2857\n",
      "Epoch 74/100\n",
      "7/7 [==============================] - 0s 993us/step - loss: 1.1218 - acc: 0.4286\n",
      "Epoch 75/100\n",
      "7/7 [==============================] - 0s 1ms/step - loss: 1.0728 - acc: 0.5714\n",
      "Epoch 76/100\n",
      "7/7 [==============================] - 0s 2ms/step - loss: 1.1435 - acc: 0.2857\n",
      "Epoch 77/100\n",
      "7/7 [==============================] - 0s 1ms/step - loss: 1.0646 - acc: 0.5714\n",
      "Epoch 78/100\n",
      "7/7 [==============================] - 0s 1ms/step - loss: 1.1013 - acc: 0.4286\n",
      "Epoch 79/100\n",
      "7/7 [==============================] - 0s 1ms/step - loss: 1.0963 - acc: 0.8571\n"
     ]
    },
    {
     "name": "stdout",
     "output_type": "stream",
     "text": [
      "Epoch 80/100\n",
      "7/7 [==============================] - 0s 2ms/step - loss: 1.0781 - acc: 0.5714\n",
      "Epoch 81/100\n",
      "7/7 [==============================] - 0s 1ms/step - loss: 1.0956 - acc: 0.4286\n",
      "Epoch 82/100\n",
      "7/7 [==============================] - 0s 1ms/step - loss: 1.0202 - acc: 0.7143\n",
      "Epoch 83/100\n",
      "7/7 [==============================] - 0s 1ms/step - loss: 1.0447 - acc: 0.5714\n",
      "Epoch 84/100\n",
      "7/7 [==============================] - 0s 2ms/step - loss: 1.0099 - acc: 0.7143\n",
      "Epoch 85/100\n",
      "7/7 [==============================] - 0s 1ms/step - loss: 1.0443 - acc: 0.7143\n",
      "Epoch 86/100\n",
      "7/7 [==============================] - 0s 2ms/step - loss: 1.0398 - acc: 0.4286\n",
      "Epoch 87/100\n",
      "7/7 [==============================] - 0s 2ms/step - loss: 1.0588 - acc: 0.5714\n",
      "Epoch 88/100\n",
      "7/7 [==============================] - 0s 1ms/step - loss: 0.9868 - acc: 0.7143\n",
      "Epoch 89/100\n",
      "7/7 [==============================] - 0s 2ms/step - loss: 1.0391 - acc: 0.5714\n",
      "Epoch 90/100\n",
      "7/7 [==============================] - 0s 1ms/step - loss: 0.9759 - acc: 0.5714\n",
      "Epoch 91/100\n",
      "7/7 [==============================] - 0s 1ms/step - loss: 1.0178 - acc: 0.7143\n",
      "Epoch 92/100\n",
      "7/7 [==============================] - 0s 1ms/step - loss: 0.9744 - acc: 0.5714\n",
      "Epoch 93/100\n",
      "7/7 [==============================] - 0s 1ms/step - loss: 1.0355 - acc: 0.5714\n",
      "Epoch 94/100\n",
      "7/7 [==============================] - 0s 1ms/step - loss: 1.0084 - acc: 0.7143\n",
      "Epoch 95/100\n",
      "7/7 [==============================] - 0s 1ms/step - loss: 1.0093 - acc: 0.4286\n",
      "Epoch 96/100\n",
      "7/7 [==============================] - 0s 1ms/step - loss: 0.9476 - acc: 0.7143\n",
      "Epoch 97/100\n",
      "7/7 [==============================] - 0s 1ms/step - loss: 0.9722 - acc: 0.5714\n",
      "Epoch 98/100\n",
      "7/7 [==============================] - 0s 880us/step - loss: 0.9690 - acc: 0.7143\n",
      "Epoch 99/100\n",
      "7/7 [==============================] - 0s 2ms/step - loss: 0.9756 - acc: 0.5714\n",
      "Epoch 100/100\n",
      "7/7 [==============================] - 0s 1ms/step - loss: 0.9558 - acc: 0.7143\n"
     ]
    },
    {
     "name": "stderr",
     "output_type": "stream",
     "text": [
      "INFO:rasa_core.policies.keras_policy:Done fitting keras policy model\n",
      "INFO:rasa_core.agent:Persisted model to '/Users/hellohbot/study/rasa-demo-pydata18/models/dialogue'\n"
     ]
    }
   ],
   "source": [
    "from rasa_core.policies import FallbackPolicy, KerasPolicy, MemoizationPolicy\n",
    "from rasa_core.agent import Agent\n",
    "\n",
    "agent = Agent('domain.yml', policies=[MemoizationPolicy(), KerasPolicy()])\n",
    "\n",
    "# loading our neatly defined training dialogues\n",
    "training_data = agent.load_data('stories.md')\n",
    "\n",
    "agent.train(\n",
    "    training_data,\n",
    "    validation_split=0.0,\n",
    ")\n",
    "\n",
    "agent.persist('models/dialogue')"
   ]
  },
  {
   "cell_type": "markdown",
   "metadata": {
    "colab_type": "text",
    "id": "FSjCEdvlzfSR"
   },
   "source": [
    "### Starting up the bot (with NLU)\n",
    "\n",
    "Now that we've trained the dialogue **and** language understanding models and saved them, we can start up an `Agent` which will handle conversations for us. "
   ]
  },
  {
   "cell_type": "code",
   "execution_count": null,
   "metadata": {
    "colab": {
     "autoexec": {
      "startup": false,
      "wait_interval": 0
     },
     "base_uri": "https://localhost:8080/",
     "height": 34
    },
    "colab_type": "code",
    "executionInfo": {
     "elapsed": 1799,
     "status": "ok",
     "timestamp": 1521380071327,
     "user": {
      "displayName": "Alexander Weidauer",
      "photoUrl": "//lh6.googleusercontent.com/-j4xnI5_PFWA/AAAAAAAAAAI/AAAAAAAAAAo/wPT2w5Bl3xg/s50-c-k-no/photo.jpg",
      "userId": "100444450157165144272"
     },
     "user_tz": -60
    },
    "id": "Ywxs0ljHgkLm",
    "outputId": "e11a8abd-70f6-41c5-ccd1-a7cba7146ce9"
   },
   "outputs": [],
   "source": [
    "from rasa_core.agent import Agent\n",
    "agent = Agent.load('models/dialogue', interpreter=model_directory)"
   ]
  },
  {
   "cell_type": "markdown",
   "metadata": {
    "colab_type": "text",
    "id": "5MnGuFRpzzBh"
   },
   "source": [
    "### Talking to the Bot (with NLU)\n",
    "\n",
    "We can start talking to the bot in natural language."
   ]
  },
  {
   "cell_type": "code",
   "execution_count": null,
   "metadata": {
    "colab": {
     "autoexec": {
      "startup": false,
      "wait_interval": 0
     },
     "base_uri": "https://localhost:8080/",
     "height": 1340
    },
    "colab_type": "code",
    "executionInfo": {
     "elapsed": 57365,
     "status": "error",
     "timestamp": 1521380132537,
     "user": {
      "displayName": "Alexander Weidauer",
      "photoUrl": "//lh6.googleusercontent.com/-j4xnI5_PFWA/AAAAAAAAAAI/AAAAAAAAAAo/wPT2w5Bl3xg/s50-c-k-no/photo.jpg",
      "userId": "100444450157165144272"
     },
     "user_tz": -60
    },
    "id": "t_4zHDsgkbno",
    "outputId": "57473fce-7184-45d1-f2b2-470bfc84244e"
   },
   "outputs": [],
   "source": [
    "print(\"Your bot is ready to talk! Type your messages here or send 'stop'\")\n",
    "while True:\n",
    "    a = input()\n",
    "    if a == 'stop':\n",
    "        break\n",
    "    responses = agent.handle_message(a)\n",
    "    for response in responses:\n",
    "        print(response[\"text\"])\n"
   ]
  },
  {
   "cell_type": "markdown",
   "metadata": {},
   "source": [
    "### Let's improve the bot"
   ]
  },
  {
   "cell_type": "markdown",
   "metadata": {},
   "source": [
    "BUT: what if the bot doesn't get what the message means? Let's add a Fallback!"
   ]
  },
  {
   "cell_type": "markdown",
   "metadata": {},
   "source": [
    "BUT: How do I execute custom code? Let's create a custom action!"
   ]
  },
  {
   "cell_type": "markdown",
   "metadata": {},
   "source": [
    "### Adding Custom API methods"
   ]
  },
  {
   "cell_type": "markdown",
   "metadata": {},
   "source": [
    "Sometimes, you not only want to send back messages to the user, but you also want to call an API or run some code. YOu can create custom actions that will be called once the bots ML model predicts them. You'll use that to fetch a random image from a remote server (we are not actually fetching it here, but we could ;)"
   ]
  },
  {
   "cell_type": "code",
   "execution_count": null,
   "metadata": {},
   "outputs": [],
   "source": [
    "from rasa_core.actions import Action\n",
    "from rasa_core.events import SlotSet\n",
    "\n",
    "import requests\n",
    "\n",
    "class CallImageAPI(Action):\n",
    "    def name(self):\n",
    "        return \"action_call_image_api\"\n",
    "    \n",
    "    def run(self, dispatcher, tracker, domain):\n",
    "        "
   ]
  },
  {
   "cell_type": "markdown",
   "metadata": {},
   "source": [
    "### Evaluation of the dialogue model\n",
    "As with the NLU model, instead of just subjectively testing the model, we can also evaluate the model on a dataset. You'll be using the training data set again, but usually you'd use a test data set separate from the training data."
   ]
  },
  {
   "cell_type": "code",
   "execution_count": null,
   "metadata": {},
   "outputs": [],
   "source": [
    "from rasa_core.evaluate import run_story_evaluation\n",
    "\n",
    "run_story_evaluation(\"stories.md\", \"models/dialogue\", \n",
    "                     nlu_model_path=None, \n",
    "                     max_stories=None, \n",
    "                     out_file_plot=\"story_eval.pdf\")"
   ]
  },
  {
   "cell_type": "markdown",
   "metadata": {},
   "source": [
    "### Interactive learning\n",
    "Unfortunately, this doesn't work in jupyter yet. Hence, we going to do this on the command line. [The repository](https://github.com/tmbo/rasa-demo-pydata18)  contains a makefile with the instructions to run the interactive learning. So go ahead and run `make interactive` on the commandline (make sure your shell is in the righht virtual env)."
   ]
  },
  {
   "cell_type": "markdown",
   "metadata": {
    "colab_type": "text",
    "id": "m7VUXU6Cn5R-"
   },
   "source": [
    "# Part 3: Next steps\n",
    "\n",
    "Great job! You've built your first bot that uses Machine Learning to manage dialogues. As a next step, we'd suggest you start building your own bot. Here are a few useful links:\n",
    "\n",
    "\n",
    "\n",
    "*   Install the Rasa Stack on your machine [here](https://core.rasa.ai/installation.html)\n",
    "*   Checkout more of the Docs: [NLU](https://nlu.rasa.com) and [Core](https://core.rasa.com)\n",
    "*   Connect to the community in our [Gitter Chat](https://gitter.im/RasaHQ/rasa_core)\n",
    "\n",
    "\n",
    "\n",
    "---\n",
    "\n",
    "\n",
    "\n",
    "\n",
    "*Any feedback for this tutorial?* Please shoot me a mail at tom@rasa.com"
   ]
  },
  {
   "cell_type": "code",
   "execution_count": null,
   "metadata": {},
   "outputs": [],
   "source": []
  },
  {
   "cell_type": "code",
   "execution_count": null,
   "metadata": {},
   "outputs": [],
   "source": []
  },
  {
   "cell_type": "markdown",
   "metadata": {},
   "source": [
    "# Scratch"
   ]
  },
  {
   "cell_type": "code",
   "execution_count": 18,
   "metadata": {},
   "outputs": [],
   "source": [
    "import spacy"
   ]
  },
  {
   "cell_type": "code",
   "execution_count": 21,
   "metadata": {},
   "outputs": [],
   "source": [
    "# Load English tokenizer, tagger, parser, NER and word vectors\n",
    "nlp = spacy.load('en_core_web_sm')\n"
   ]
  },
  {
   "cell_type": "code",
   "execution_count": 22,
   "metadata": {},
   "outputs": [
    {
     "name": "stdout",
     "output_type": "stream",
     "text": [
      "Sebastian Thrun PERSON\n",
      "Google ORG\n",
      "2007 DATE\n",
      "American NORP\n",
      "Thrun PERSON\n",
      "Recode ORG\n",
      "earlier this week DATE\n"
     ]
    }
   ],
   "source": [
    "# Process whole documents\n",
    "text = (u\"When Sebastian Thrun started working on self-driving cars at \"\n",
    "        u\"Google in 2007, few people outside of the company took him \"\n",
    "        u\"seriously. “I can tell you very senior CEOs of major American \"\n",
    "        u\"car companies would shake my hand and turn away because I wasn’t \"\n",
    "        u\"worth talking to,” said Thrun, now the co-founder and CEO of \"\n",
    "        u\"online higher education startup Udacity, in an interview with \"\n",
    "        u\"Recode earlier this week.\")\n",
    "doc = nlp(text)\n",
    "\n",
    "# Find named entities, phrases and concepts\n",
    "for entity in doc.ents:\n",
    "    print(entity.text, entity.label_)\n",
    "\n"
   ]
  },
  {
   "cell_type": "code",
   "execution_count": 23,
   "metadata": {},
   "outputs": [
    {
     "name": "stdout",
     "output_type": "stream",
     "text": [
      "my fries were super gross such disgusting fries 0.7139701576579747\n"
     ]
    }
   ],
   "source": [
    "# Determine semantic similarities\n",
    "doc1 = nlp(u\"my fries were super gross\")\n",
    "doc2 = nlp(u\"such disgusting fries\")\n",
    "similarity = doc1.similarity(doc2)\n",
    "print(doc1.text, doc2.text, similarity)"
   ]
  },
  {
   "cell_type": "code",
   "execution_count": 20,
   "metadata": {},
   "outputs": [
    {
     "name": "stdout",
     "output_type": "stream",
     "text": [
      "Collecting en_core_web_sm==2.0.0 from https://github.com/explosion/spacy-models/releases/download/en_core_web_sm-2.0.0/en_core_web_sm-2.0.0.tar.gz#egg=en_core_web_sm==2.0.0\n",
      "\u001b[?25l  Downloading https://github.com/explosion/spacy-models/releases/download/en_core_web_sm-2.0.0/en_core_web_sm-2.0.0.tar.gz (37.4MB)\n",
      "\u001b[K    100% |████████████████████████████████| 37.4MB 54.6MB/s ta 0:00:01    82% |██████████████████████████▎     | 30.7MB 13.7MB/s eta 0:00:01\n",
      "\u001b[?25hInstalling collected packages: en-core-web-sm\n",
      "  Running setup.py install for en-core-web-sm ... \u001b[?25ldone\n",
      "\u001b[?25hSuccessfully installed en-core-web-sm-2.0.0\n",
      "\n",
      "\u001b[93m    Linking successful\u001b[0m\n",
      "    /Users/hellohbot/.pyenv/versions/demo/lib/python3.6/site-packages/en_core_web_sm\n",
      "    -->\n",
      "    /Users/hellohbot/.pyenv/versions/demo/lib/python3.6/site-packages/spacy/data/en_core_web_sm\n",
      "\n",
      "    You can now load the model via spacy.load('en_core_web_sm')\n",
      "\n"
     ]
    }
   ],
   "source": [
    "!python -m spacy download en_core_web_sm"
   ]
  },
  {
   "cell_type": "code",
   "execution_count": 24,
   "metadata": {},
   "outputs": [
    {
     "name": "stdout",
     "output_type": "stream",
     "text": [
      "Python 3.6.8\r\n"
     ]
    }
   ],
   "source": [
    "!python -V"
   ]
  },
  {
   "cell_type": "code",
   "execution_count": null,
   "metadata": {},
   "outputs": [],
   "source": []
  }
 ],
 "metadata": {
  "colab": {
   "collapsed_sections": [
    "y4miuS-TqYcn",
    "BBF6Nqi9scQE",
    "Fs3nOUzBsqrG",
    "5MnGuFRpzzBh"
   ],
   "default_view": {},
   "name": "Building a Simple Bot with Rasa Stack - Tutorial",
   "provenance": [
    {
     "file_id": "1GutDkDXmfU-nRzNH7Pxxx8YpdvLUw9LO",
     "timestamp": 1521183725373
    }
   ],
   "toc_visible": true,
   "version": "0.3.2",
   "views": {}
  },
  "kernelspec": {
   "display_name": "Python 3",
   "language": "python",
   "name": "python3"
  },
  "language_info": {
   "codemirror_mode": {
    "name": "ipython",
    "version": 3
   },
   "file_extension": ".py",
   "mimetype": "text/x-python",
   "name": "python",
   "nbconvert_exporter": "python",
   "pygments_lexer": "ipython3",
   "version": "3.6.8"
  }
 },
 "nbformat": 4,
 "nbformat_minor": 1
}
